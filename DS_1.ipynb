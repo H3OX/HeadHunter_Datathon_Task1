{
 "cells": [
  {
   "cell_type": "code",
   "execution_count": 40,
   "metadata": {},
   "outputs": [],
   "source": [
    "import pandas as pd\n",
    "import numpy as np\n",
    "import joblib"
   ]
  },
  {
   "cell_type": "code",
   "execution_count": 41,
   "metadata": {},
   "outputs": [],
   "source": [
    "data = joblib.load('dataset.pkl')\n",
    "ds = pd.DataFrame(data, columns=['id', 'employment', 'employer', 'billing_type', 'spec_id', 'premium', 'schedule', 'msg', 'city', 'exp', 'target_from', 'target_to'])"
   ]
  },
  {
   "cell_type": "code",
   "execution_count": 42,
   "metadata": {},
   "outputs": [
    {
     "output_type": "execute_result",
     "data": {
      "text/plain": "        id        employment     employer billing_type spec_id  premium  \\\n0  4027565  Полная занятость    Сирота ЛБ   Бесплатная       3    False   \n1  0027565  Полная занятость    Атмосфера   Бесплатная      17    False   \n2  5917565  Полная занятость     Динамика   Бесплатная       3    False   \n3  1917565  Полная занятость  Экостандарт     Стандарт      17    False   \n4  0917565  Полная занятость  Rendez-vous     Стандарт      17    False   \n\n         schedule   msg    city                 exp  target_from  target_to  \n0     Полный день  True     NaN  От 1 года до 3 лет      31000.0        NaN  \n1     Полный день  True     NaN  От 1 года до 3 лет       5000.0        NaN  \n2     Полный день  True  Бердск           Нет опыта      20000.0    35000.0  \n3     Полный день  True  Москва  От 1 года до 3 лет      50000.0        NaN  \n4  Сменный график  True     NaN           Нет опыта      52000.0        NaN  ",
      "text/html": "<div>\n<style scoped>\n    .dataframe tbody tr th:only-of-type {\n        vertical-align: middle;\n    }\n\n    .dataframe tbody tr th {\n        vertical-align: top;\n    }\n\n    .dataframe thead th {\n        text-align: right;\n    }\n</style>\n<table border=\"1\" class=\"dataframe\">\n  <thead>\n    <tr style=\"text-align: right;\">\n      <th></th>\n      <th>id</th>\n      <th>employment</th>\n      <th>employer</th>\n      <th>billing_type</th>\n      <th>spec_id</th>\n      <th>premium</th>\n      <th>schedule</th>\n      <th>msg</th>\n      <th>city</th>\n      <th>exp</th>\n      <th>target_from</th>\n      <th>target_to</th>\n    </tr>\n  </thead>\n  <tbody>\n    <tr>\n      <th>0</th>\n      <td>4027565</td>\n      <td>Полная занятость</td>\n      <td>Сирота ЛБ</td>\n      <td>Бесплатная</td>\n      <td>3</td>\n      <td>False</td>\n      <td>Полный день</td>\n      <td>True</td>\n      <td>NaN</td>\n      <td>От 1 года до 3 лет</td>\n      <td>31000.0</td>\n      <td>NaN</td>\n    </tr>\n    <tr>\n      <th>1</th>\n      <td>0027565</td>\n      <td>Полная занятость</td>\n      <td>Атмосфера</td>\n      <td>Бесплатная</td>\n      <td>17</td>\n      <td>False</td>\n      <td>Полный день</td>\n      <td>True</td>\n      <td>NaN</td>\n      <td>От 1 года до 3 лет</td>\n      <td>5000.0</td>\n      <td>NaN</td>\n    </tr>\n    <tr>\n      <th>2</th>\n      <td>5917565</td>\n      <td>Полная занятость</td>\n      <td>Динамика</td>\n      <td>Бесплатная</td>\n      <td>3</td>\n      <td>False</td>\n      <td>Полный день</td>\n      <td>True</td>\n      <td>Бердск</td>\n      <td>Нет опыта</td>\n      <td>20000.0</td>\n      <td>35000.0</td>\n    </tr>\n    <tr>\n      <th>3</th>\n      <td>1917565</td>\n      <td>Полная занятость</td>\n      <td>Экостандарт</td>\n      <td>Стандарт</td>\n      <td>17</td>\n      <td>False</td>\n      <td>Полный день</td>\n      <td>True</td>\n      <td>Москва</td>\n      <td>От 1 года до 3 лет</td>\n      <td>50000.0</td>\n      <td>NaN</td>\n    </tr>\n    <tr>\n      <th>4</th>\n      <td>0917565</td>\n      <td>Полная занятость</td>\n      <td>Rendez-vous</td>\n      <td>Стандарт</td>\n      <td>17</td>\n      <td>False</td>\n      <td>Сменный график</td>\n      <td>True</td>\n      <td>NaN</td>\n      <td>Нет опыта</td>\n      <td>52000.0</td>\n      <td>NaN</td>\n    </tr>\n  </tbody>\n</table>\n</div>"
     },
     "metadata": {},
     "execution_count": 42
    }
   ],
   "source": [
    "ds.head()"
   ]
  },
  {
   "cell_type": "code",
   "execution_count": 43,
   "metadata": {},
   "outputs": [
    {
     "output_type": "stream",
     "name": "stdout",
     "text": "<class 'pandas.core.frame.DataFrame'>\nRangeIndex: 696698 entries, 0 to 696697\nData columns (total 12 columns):\n #   Column        Non-Null Count   Dtype  \n---  ------        --------------   -----  \n 0   id            696698 non-null  object \n 1   employment    696698 non-null  object \n 2   employer      696698 non-null  object \n 3   billing_type  696698 non-null  object \n 4   spec_id       696698 non-null  object \n 5   premium       696698 non-null  bool   \n 6   schedule      696698 non-null  object \n 7   msg           696698 non-null  bool   \n 8   city          208779 non-null  object \n 9   exp           696698 non-null  object \n 10  target_from   646085 non-null  float64\n 11  target_to     390960 non-null  float64\ndtypes: bool(2), float64(2), object(8)\nmemory usage: 54.5+ MB\n"
    }
   ],
   "source": [
    "ds.info()"
   ]
  },
  {
   "cell_type": "code",
   "execution_count": 44,
   "metadata": {},
   "outputs": [],
   "source": [
    "ds['id'] = ds['id'].astype('str').astype('int')\n",
    "ds['spec_id'] = ds['spec_id'].astype('str').astype('int')"
   ]
  },
  {
   "cell_type": "code",
   "execution_count": 45,
   "metadata": {},
   "outputs": [
    {
     "output_type": "execute_result",
     "data": {
      "text/plain": "                 id        spec_id   target_from     target_to\ncount  6.966980e+05  696698.000000  6.460850e+05  3.909600e+05\nmean   5.003515e+06      14.193877  2.358419e+05  2.946869e+05\nstd    2.885332e+06       7.753458  1.229709e+06  2.879861e+06\nmin    7.000000e+00       1.000000  1.000000e+00  1.000000e+00\n25%    2.503688e+06       6.000000  2.000000e+04  3.000000e+04\n50%    5.007286e+06      17.000000  3.000000e+04  4.500000e+04\n75%    7.501121e+06      19.000000  4.950000e+04  8.000000e+04\nmax    9.999996e+06      29.000000  1.500000e+08  1.000000e+09",
      "text/html": "<div>\n<style scoped>\n    .dataframe tbody tr th:only-of-type {\n        vertical-align: middle;\n    }\n\n    .dataframe tbody tr th {\n        vertical-align: top;\n    }\n\n    .dataframe thead th {\n        text-align: right;\n    }\n</style>\n<table border=\"1\" class=\"dataframe\">\n  <thead>\n    <tr style=\"text-align: right;\">\n      <th></th>\n      <th>id</th>\n      <th>spec_id</th>\n      <th>target_from</th>\n      <th>target_to</th>\n    </tr>\n  </thead>\n  <tbody>\n    <tr>\n      <th>count</th>\n      <td>6.966980e+05</td>\n      <td>696698.000000</td>\n      <td>6.460850e+05</td>\n      <td>3.909600e+05</td>\n    </tr>\n    <tr>\n      <th>mean</th>\n      <td>5.003515e+06</td>\n      <td>14.193877</td>\n      <td>2.358419e+05</td>\n      <td>2.946869e+05</td>\n    </tr>\n    <tr>\n      <th>std</th>\n      <td>2.885332e+06</td>\n      <td>7.753458</td>\n      <td>1.229709e+06</td>\n      <td>2.879861e+06</td>\n    </tr>\n    <tr>\n      <th>min</th>\n      <td>7.000000e+00</td>\n      <td>1.000000</td>\n      <td>1.000000e+00</td>\n      <td>1.000000e+00</td>\n    </tr>\n    <tr>\n      <th>25%</th>\n      <td>2.503688e+06</td>\n      <td>6.000000</td>\n      <td>2.000000e+04</td>\n      <td>3.000000e+04</td>\n    </tr>\n    <tr>\n      <th>50%</th>\n      <td>5.007286e+06</td>\n      <td>17.000000</td>\n      <td>3.000000e+04</td>\n      <td>4.500000e+04</td>\n    </tr>\n    <tr>\n      <th>75%</th>\n      <td>7.501121e+06</td>\n      <td>19.000000</td>\n      <td>4.950000e+04</td>\n      <td>8.000000e+04</td>\n    </tr>\n    <tr>\n      <th>max</th>\n      <td>9.999996e+06</td>\n      <td>29.000000</td>\n      <td>1.500000e+08</td>\n      <td>1.000000e+09</td>\n    </tr>\n  </tbody>\n</table>\n</div>"
     },
     "metadata": {},
     "execution_count": 45
    }
   ],
   "source": [
    "ds.describe()"
   ]
  },
  {
   "cell_type": "code",
   "execution_count": 46,
   "metadata": {},
   "outputs": [],
   "source": [
    "def transform_exp(col):\n",
    "    exp_new = []\n",
    "    for x in col:\n",
    "        if x == 'Нет опыта':\n",
    "            exp_new.append(0)\n",
    "        elif x[3] == '1':\n",
    "            exp_new.append(1)\n",
    "        elif x[3] == '3':\n",
    "            exp_new.append(3)\n",
    "        else:\n",
    "            exp_new.append(6)\n",
    "    return exp_new"
   ]
  },
  {
   "cell_type": "code",
   "execution_count": 47,
   "metadata": {},
   "outputs": [],
   "source": [
    "ds['exp'] = transform_exp(ds['exp'])"
   ]
  },
  {
   "cell_type": "code",
   "execution_count": 48,
   "metadata": {},
   "outputs": [
    {
     "output_type": "execute_result",
     "data": {
      "text/plain": "        id        employment     employer billing_type  spec_id  premium  \\\n0  4027565  Полная занятость    Сирота ЛБ   Бесплатная        3    False   \n1    27565  Полная занятость    Атмосфера   Бесплатная       17    False   \n2  5917565  Полная занятость     Динамика   Бесплатная        3    False   \n3  1917565  Полная занятость  Экостандарт     Стандарт       17    False   \n4   917565  Полная занятость  Rendez-vous     Стандарт       17    False   \n\n         schedule   msg    city  exp  target_from  target_to  \n0     Полный день  True     NaN    1      31000.0        NaN  \n1     Полный день  True     NaN    1       5000.0        NaN  \n2     Полный день  True  Бердск    0      20000.0    35000.0  \n3     Полный день  True  Москва    1      50000.0        NaN  \n4  Сменный график  True     NaN    0      52000.0        NaN  ",
      "text/html": "<div>\n<style scoped>\n    .dataframe tbody tr th:only-of-type {\n        vertical-align: middle;\n    }\n\n    .dataframe tbody tr th {\n        vertical-align: top;\n    }\n\n    .dataframe thead th {\n        text-align: right;\n    }\n</style>\n<table border=\"1\" class=\"dataframe\">\n  <thead>\n    <tr style=\"text-align: right;\">\n      <th></th>\n      <th>id</th>\n      <th>employment</th>\n      <th>employer</th>\n      <th>billing_type</th>\n      <th>spec_id</th>\n      <th>premium</th>\n      <th>schedule</th>\n      <th>msg</th>\n      <th>city</th>\n      <th>exp</th>\n      <th>target_from</th>\n      <th>target_to</th>\n    </tr>\n  </thead>\n  <tbody>\n    <tr>\n      <th>0</th>\n      <td>4027565</td>\n      <td>Полная занятость</td>\n      <td>Сирота ЛБ</td>\n      <td>Бесплатная</td>\n      <td>3</td>\n      <td>False</td>\n      <td>Полный день</td>\n      <td>True</td>\n      <td>NaN</td>\n      <td>1</td>\n      <td>31000.0</td>\n      <td>NaN</td>\n    </tr>\n    <tr>\n      <th>1</th>\n      <td>27565</td>\n      <td>Полная занятость</td>\n      <td>Атмосфера</td>\n      <td>Бесплатная</td>\n      <td>17</td>\n      <td>False</td>\n      <td>Полный день</td>\n      <td>True</td>\n      <td>NaN</td>\n      <td>1</td>\n      <td>5000.0</td>\n      <td>NaN</td>\n    </tr>\n    <tr>\n      <th>2</th>\n      <td>5917565</td>\n      <td>Полная занятость</td>\n      <td>Динамика</td>\n      <td>Бесплатная</td>\n      <td>3</td>\n      <td>False</td>\n      <td>Полный день</td>\n      <td>True</td>\n      <td>Бердск</td>\n      <td>0</td>\n      <td>20000.0</td>\n      <td>35000.0</td>\n    </tr>\n    <tr>\n      <th>3</th>\n      <td>1917565</td>\n      <td>Полная занятость</td>\n      <td>Экостандарт</td>\n      <td>Стандарт</td>\n      <td>17</td>\n      <td>False</td>\n      <td>Полный день</td>\n      <td>True</td>\n      <td>Москва</td>\n      <td>1</td>\n      <td>50000.0</td>\n      <td>NaN</td>\n    </tr>\n    <tr>\n      <th>4</th>\n      <td>917565</td>\n      <td>Полная занятость</td>\n      <td>Rendez-vous</td>\n      <td>Стандарт</td>\n      <td>17</td>\n      <td>False</td>\n      <td>Сменный график</td>\n      <td>True</td>\n      <td>NaN</td>\n      <td>0</td>\n      <td>52000.0</td>\n      <td>NaN</td>\n    </tr>\n  </tbody>\n</table>\n</div>"
     },
     "metadata": {},
     "execution_count": 48
    }
   ],
   "source": [
    "ds.head()"
   ]
  },
  {
   "cell_type": "code",
   "execution_count": 49,
   "metadata": {},
   "outputs": [],
   "source": [
    "def fill_nans(data):\n",
    "    for col in data.select_dtypes(include=['object']):\n",
    "        data[col].fillna(data[col].mode()[0], inplace=True)\n",
    "        print(f'NaNs filled in {col}')"
   ]
  },
  {
   "cell_type": "code",
   "execution_count": 50,
   "metadata": {},
   "outputs": [
    {
     "output_type": "stream",
     "name": "stdout",
     "text": "NaNs filled in employment\nNaNs filled in employer\nNaNs filled in billing_type\nNaNs filled in schedule\nNaNs filled in city\n"
    }
   ],
   "source": [
    "fill_nans(ds)"
   ]
  },
  {
   "cell_type": "code",
   "execution_count": 51,
   "metadata": {},
   "outputs": [
    {
     "output_type": "execute_result",
     "data": {
      "text/plain": "        id        employment     employer billing_type  spec_id  premium  \\\n0  4027565  Полная занятость    Сирота ЛБ   Бесплатная        3    False   \n1    27565  Полная занятость    Атмосфера   Бесплатная       17    False   \n2  5917565  Полная занятость     Динамика   Бесплатная        3    False   \n3  1917565  Полная занятость  Экостандарт     Стандарт       17    False   \n4   917565  Полная занятость  Rendez-vous     Стандарт       17    False   \n\n         schedule   msg    city  exp  target_from  target_to  \n0     Полный день  True  Москва    1      31000.0        NaN  \n1     Полный день  True  Москва    1       5000.0        NaN  \n2     Полный день  True  Бердск    0      20000.0    35000.0  \n3     Полный день  True  Москва    1      50000.0        NaN  \n4  Сменный график  True  Москва    0      52000.0        NaN  ",
      "text/html": "<div>\n<style scoped>\n    .dataframe tbody tr th:only-of-type {\n        vertical-align: middle;\n    }\n\n    .dataframe tbody tr th {\n        vertical-align: top;\n    }\n\n    .dataframe thead th {\n        text-align: right;\n    }\n</style>\n<table border=\"1\" class=\"dataframe\">\n  <thead>\n    <tr style=\"text-align: right;\">\n      <th></th>\n      <th>id</th>\n      <th>employment</th>\n      <th>employer</th>\n      <th>billing_type</th>\n      <th>spec_id</th>\n      <th>premium</th>\n      <th>schedule</th>\n      <th>msg</th>\n      <th>city</th>\n      <th>exp</th>\n      <th>target_from</th>\n      <th>target_to</th>\n    </tr>\n  </thead>\n  <tbody>\n    <tr>\n      <th>0</th>\n      <td>4027565</td>\n      <td>Полная занятость</td>\n      <td>Сирота ЛБ</td>\n      <td>Бесплатная</td>\n      <td>3</td>\n      <td>False</td>\n      <td>Полный день</td>\n      <td>True</td>\n      <td>Москва</td>\n      <td>1</td>\n      <td>31000.0</td>\n      <td>NaN</td>\n    </tr>\n    <tr>\n      <th>1</th>\n      <td>27565</td>\n      <td>Полная занятость</td>\n      <td>Атмосфера</td>\n      <td>Бесплатная</td>\n      <td>17</td>\n      <td>False</td>\n      <td>Полный день</td>\n      <td>True</td>\n      <td>Москва</td>\n      <td>1</td>\n      <td>5000.0</td>\n      <td>NaN</td>\n    </tr>\n    <tr>\n      <th>2</th>\n      <td>5917565</td>\n      <td>Полная занятость</td>\n      <td>Динамика</td>\n      <td>Бесплатная</td>\n      <td>3</td>\n      <td>False</td>\n      <td>Полный день</td>\n      <td>True</td>\n      <td>Бердск</td>\n      <td>0</td>\n      <td>20000.0</td>\n      <td>35000.0</td>\n    </tr>\n    <tr>\n      <th>3</th>\n      <td>1917565</td>\n      <td>Полная занятость</td>\n      <td>Экостандарт</td>\n      <td>Стандарт</td>\n      <td>17</td>\n      <td>False</td>\n      <td>Полный день</td>\n      <td>True</td>\n      <td>Москва</td>\n      <td>1</td>\n      <td>50000.0</td>\n      <td>NaN</td>\n    </tr>\n    <tr>\n      <th>4</th>\n      <td>917565</td>\n      <td>Полная занятость</td>\n      <td>Rendez-vous</td>\n      <td>Стандарт</td>\n      <td>17</td>\n      <td>False</td>\n      <td>Сменный график</td>\n      <td>True</td>\n      <td>Москва</td>\n      <td>0</td>\n      <td>52000.0</td>\n      <td>NaN</td>\n    </tr>\n  </tbody>\n</table>\n</div>"
     },
     "metadata": {},
     "execution_count": 51
    }
   ],
   "source": [
    "ds.head()"
   ]
  },
  {
   "cell_type": "code",
   "execution_count": 52,
   "metadata": {},
   "outputs": [],
   "source": [
    "def count_nans(data):\n",
    "    return data.isnull().sum(axis = 0)"
   ]
  },
  {
   "cell_type": "code",
   "execution_count": 53,
   "metadata": {},
   "outputs": [
    {
     "output_type": "execute_result",
     "data": {
      "text/plain": "id                   0\nemployment           0\nemployer             0\nbilling_type         0\nspec_id              0\npremium              0\nschedule             0\nmsg                  0\ncity                 0\nexp                  0\ntarget_from      50613\ntarget_to       305738\ndtype: int64"
     },
     "metadata": {},
     "execution_count": 53
    }
   ],
   "source": [
    "count_nans(ds)"
   ]
  },
  {
   "cell_type": "code",
   "execution_count": 54,
   "metadata": {},
   "outputs": [],
   "source": [
    "ds.drop('employer', axis=1, inplace=True)"
   ]
  },
  {
   "cell_type": "code",
   "execution_count": 55,
   "metadata": {},
   "outputs": [
    {
     "output_type": "execute_result",
     "data": {
      "text/plain": "        id        employment billing_type  spec_id  premium        schedule  \\\n0  4027565  Полная занятость   Бесплатная        3    False     Полный день   \n1    27565  Полная занятость   Бесплатная       17    False     Полный день   \n2  5917565  Полная занятость   Бесплатная        3    False     Полный день   \n3  1917565  Полная занятость     Стандарт       17    False     Полный день   \n4   917565  Полная занятость     Стандарт       17    False  Сменный график   \n\n    msg    city  exp  target_from  target_to  \n0  True  Москва    1      31000.0        NaN  \n1  True  Москва    1       5000.0        NaN  \n2  True  Бердск    0      20000.0    35000.0  \n3  True  Москва    1      50000.0        NaN  \n4  True  Москва    0      52000.0        NaN  ",
      "text/html": "<div>\n<style scoped>\n    .dataframe tbody tr th:only-of-type {\n        vertical-align: middle;\n    }\n\n    .dataframe tbody tr th {\n        vertical-align: top;\n    }\n\n    .dataframe thead th {\n        text-align: right;\n    }\n</style>\n<table border=\"1\" class=\"dataframe\">\n  <thead>\n    <tr style=\"text-align: right;\">\n      <th></th>\n      <th>id</th>\n      <th>employment</th>\n      <th>billing_type</th>\n      <th>spec_id</th>\n      <th>premium</th>\n      <th>schedule</th>\n      <th>msg</th>\n      <th>city</th>\n      <th>exp</th>\n      <th>target_from</th>\n      <th>target_to</th>\n    </tr>\n  </thead>\n  <tbody>\n    <tr>\n      <th>0</th>\n      <td>4027565</td>\n      <td>Полная занятость</td>\n      <td>Бесплатная</td>\n      <td>3</td>\n      <td>False</td>\n      <td>Полный день</td>\n      <td>True</td>\n      <td>Москва</td>\n      <td>1</td>\n      <td>31000.0</td>\n      <td>NaN</td>\n    </tr>\n    <tr>\n      <th>1</th>\n      <td>27565</td>\n      <td>Полная занятость</td>\n      <td>Бесплатная</td>\n      <td>17</td>\n      <td>False</td>\n      <td>Полный день</td>\n      <td>True</td>\n      <td>Москва</td>\n      <td>1</td>\n      <td>5000.0</td>\n      <td>NaN</td>\n    </tr>\n    <tr>\n      <th>2</th>\n      <td>5917565</td>\n      <td>Полная занятость</td>\n      <td>Бесплатная</td>\n      <td>3</td>\n      <td>False</td>\n      <td>Полный день</td>\n      <td>True</td>\n      <td>Бердск</td>\n      <td>0</td>\n      <td>20000.0</td>\n      <td>35000.0</td>\n    </tr>\n    <tr>\n      <th>3</th>\n      <td>1917565</td>\n      <td>Полная занятость</td>\n      <td>Стандарт</td>\n      <td>17</td>\n      <td>False</td>\n      <td>Полный день</td>\n      <td>True</td>\n      <td>Москва</td>\n      <td>1</td>\n      <td>50000.0</td>\n      <td>NaN</td>\n    </tr>\n    <tr>\n      <th>4</th>\n      <td>917565</td>\n      <td>Полная занятость</td>\n      <td>Стандарт</td>\n      <td>17</td>\n      <td>False</td>\n      <td>Сменный график</td>\n      <td>True</td>\n      <td>Москва</td>\n      <td>0</td>\n      <td>52000.0</td>\n      <td>NaN</td>\n    </tr>\n  </tbody>\n</table>\n</div>"
     },
     "metadata": {},
     "execution_count": 55
    }
   ],
   "source": [
    "ds.head()"
   ]
  },
  {
   "cell_type": "code",
   "execution_count": 57,
   "metadata": {},
   "outputs": [
    {
     "output_type": "execute_result",
     "data": {
      "text/plain": "array(['Полная занятость', 'Частичная занятость', 'Проектная работа',\n       'Стажировка', 'Волонтерство'], dtype=object)"
     },
     "metadata": {},
     "execution_count": 57
    }
   ],
   "source": [
    "ds['employment'].unique()"
   ]
  },
  {
   "cell_type": "code",
   "execution_count": 58,
   "metadata": {},
   "outputs": [],
   "source": [
    "ds = pd.concat([ds.drop('employment', axis=1), pd.get_dummies(ds['employment'])], axis=1)"
   ]
  },
  {
   "cell_type": "code",
   "execution_count": 59,
   "metadata": {},
   "outputs": [],
   "source": [
    "ds = pd.concat([ds.drop('billing_type', axis=1), pd.get_dummies(ds['billing_type'])], axis=1)"
   ]
  },
  {
   "cell_type": "code",
   "execution_count": 60,
   "metadata": {},
   "outputs": [],
   "source": [
    "ds = pd.concat([ds.drop('premium', axis=1), pd.get_dummies(ds['premium'])], axis=1)"
   ]
  },
  {
   "cell_type": "code",
   "execution_count": 61,
   "metadata": {},
   "outputs": [],
   "source": [
    "ds = pd.concat([ds.drop('schedule', axis=1), pd.get_dummies(ds['schedule'])], axis=1)"
   ]
  },
  {
   "cell_type": "code",
   "execution_count": 62,
   "metadata": {},
   "outputs": [],
   "source": [
    "ds = pd.concat([ds.drop('msg', axis=1), pd.get_dummies(ds['msg'])], axis=1)"
   ]
  },
  {
   "cell_type": "code",
   "execution_count": 64,
   "metadata": {},
   "outputs": [],
   "source": [
    "ds.drop('id', axis=1, inplace=True)"
   ]
  },
  {
   "cell_type": "code",
   "execution_count": 65,
   "metadata": {},
   "outputs": [
    {
     "output_type": "execute_result",
     "data": {
      "text/plain": "   spec_id    city  exp  target_from  target_to  Волонтерство  \\\n0        3  Москва    1      31000.0        NaN             0   \n1       17  Москва    1       5000.0        NaN             0   \n2        3  Бердск    0      20000.0    35000.0             0   \n3       17  Москва    1      50000.0        NaN             0   \n4       17  Москва    0      52000.0        NaN             0   \n\n   Полная занятость  Проектная работа  Стажировка  Частичная занятость  ...  \\\n0                 1                 0           0                    0  ...   \n1                 1                 0           0                    0  ...   \n2                 1                 0           0                    0  ...   \n3                 1                 0           0                    0  ...   \n4                 1                 0           0                    0  ...   \n\n   Стандарт+  False  True  Вахтовый метод  Гибкий график  Полный день  \\\n0          0      1     0               0              0            1   \n1          0      1     0               0              0            1   \n2          0      1     0               0              0            1   \n3          0      1     0               0              0            1   \n4          0      1     0               0              0            0   \n\n   Сменный график  Удаленная работа  False  True  \n0               0                 0      0     1  \n1               0                 0      0     1  \n2               0                 0      0     1  \n3               0                 0      0     1  \n4               1                 0      0     1  \n\n[5 rows x 23 columns]",
      "text/html": "<div>\n<style scoped>\n    .dataframe tbody tr th:only-of-type {\n        vertical-align: middle;\n    }\n\n    .dataframe tbody tr th {\n        vertical-align: top;\n    }\n\n    .dataframe thead th {\n        text-align: right;\n    }\n</style>\n<table border=\"1\" class=\"dataframe\">\n  <thead>\n    <tr style=\"text-align: right;\">\n      <th></th>\n      <th>spec_id</th>\n      <th>city</th>\n      <th>exp</th>\n      <th>target_from</th>\n      <th>target_to</th>\n      <th>Волонтерство</th>\n      <th>Полная занятость</th>\n      <th>Проектная работа</th>\n      <th>Стажировка</th>\n      <th>Частичная занятость</th>\n      <th>...</th>\n      <th>Стандарт+</th>\n      <th>False</th>\n      <th>True</th>\n      <th>Вахтовый метод</th>\n      <th>Гибкий график</th>\n      <th>Полный день</th>\n      <th>Сменный график</th>\n      <th>Удаленная работа</th>\n      <th>False</th>\n      <th>True</th>\n    </tr>\n  </thead>\n  <tbody>\n    <tr>\n      <th>0</th>\n      <td>3</td>\n      <td>Москва</td>\n      <td>1</td>\n      <td>31000.0</td>\n      <td>NaN</td>\n      <td>0</td>\n      <td>1</td>\n      <td>0</td>\n      <td>0</td>\n      <td>0</td>\n      <td>...</td>\n      <td>0</td>\n      <td>1</td>\n      <td>0</td>\n      <td>0</td>\n      <td>0</td>\n      <td>1</td>\n      <td>0</td>\n      <td>0</td>\n      <td>0</td>\n      <td>1</td>\n    </tr>\n    <tr>\n      <th>1</th>\n      <td>17</td>\n      <td>Москва</td>\n      <td>1</td>\n      <td>5000.0</td>\n      <td>NaN</td>\n      <td>0</td>\n      <td>1</td>\n      <td>0</td>\n      <td>0</td>\n      <td>0</td>\n      <td>...</td>\n      <td>0</td>\n      <td>1</td>\n      <td>0</td>\n      <td>0</td>\n      <td>0</td>\n      <td>1</td>\n      <td>0</td>\n      <td>0</td>\n      <td>0</td>\n      <td>1</td>\n    </tr>\n    <tr>\n      <th>2</th>\n      <td>3</td>\n      <td>Бердск</td>\n      <td>0</td>\n      <td>20000.0</td>\n      <td>35000.0</td>\n      <td>0</td>\n      <td>1</td>\n      <td>0</td>\n      <td>0</td>\n      <td>0</td>\n      <td>...</td>\n      <td>0</td>\n      <td>1</td>\n      <td>0</td>\n      <td>0</td>\n      <td>0</td>\n      <td>1</td>\n      <td>0</td>\n      <td>0</td>\n      <td>0</td>\n      <td>1</td>\n    </tr>\n    <tr>\n      <th>3</th>\n      <td>17</td>\n      <td>Москва</td>\n      <td>1</td>\n      <td>50000.0</td>\n      <td>NaN</td>\n      <td>0</td>\n      <td>1</td>\n      <td>0</td>\n      <td>0</td>\n      <td>0</td>\n      <td>...</td>\n      <td>0</td>\n      <td>1</td>\n      <td>0</td>\n      <td>0</td>\n      <td>0</td>\n      <td>1</td>\n      <td>0</td>\n      <td>0</td>\n      <td>0</td>\n      <td>1</td>\n    </tr>\n    <tr>\n      <th>4</th>\n      <td>17</td>\n      <td>Москва</td>\n      <td>0</td>\n      <td>52000.0</td>\n      <td>NaN</td>\n      <td>0</td>\n      <td>1</td>\n      <td>0</td>\n      <td>0</td>\n      <td>0</td>\n      <td>...</td>\n      <td>0</td>\n      <td>1</td>\n      <td>0</td>\n      <td>0</td>\n      <td>0</td>\n      <td>0</td>\n      <td>1</td>\n      <td>0</td>\n      <td>0</td>\n      <td>1</td>\n    </tr>\n  </tbody>\n</table>\n<p>5 rows × 23 columns</p>\n</div>"
     },
     "metadata": {},
     "execution_count": 65
    }
   ],
   "source": [
    "ds.head()"
   ]
  },
  {
   "cell_type": "code",
   "execution_count": 40,
   "metadata": {},
   "outputs": [
    {
     "ename": "KeyError",
     "evalue": "'employment'",
     "output_type": "error",
     "traceback": [
      "\u001b[0;31m---------------------------------------------------------------------------\u001b[0m",
      "\u001b[0;31mKeyError\u001b[0m                                  Traceback (most recent call last)",
      "\u001b[0;32m/Library/Frameworks/Python.framework/Versions/3.7/lib/python3.7/site-packages/pandas/core/indexes/base.py\u001b[0m in \u001b[0;36mget_loc\u001b[0;34m(self, key, method, tolerance)\u001b[0m\n\u001b[1;32m   2645\u001b[0m             \u001b[0;32mtry\u001b[0m\u001b[0;34m:\u001b[0m\u001b[0;34m\u001b[0m\u001b[0;34m\u001b[0m\u001b[0m\n\u001b[0;32m-> 2646\u001b[0;31m                 \u001b[0;32mreturn\u001b[0m \u001b[0mself\u001b[0m\u001b[0;34m.\u001b[0m\u001b[0m_engine\u001b[0m\u001b[0;34m.\u001b[0m\u001b[0mget_loc\u001b[0m\u001b[0;34m(\u001b[0m\u001b[0mkey\u001b[0m\u001b[0;34m)\u001b[0m\u001b[0;34m\u001b[0m\u001b[0;34m\u001b[0m\u001b[0m\n\u001b[0m\u001b[1;32m   2647\u001b[0m             \u001b[0;32mexcept\u001b[0m \u001b[0mKeyError\u001b[0m\u001b[0;34m:\u001b[0m\u001b[0;34m\u001b[0m\u001b[0;34m\u001b[0m\u001b[0m\n",
      "\u001b[0;32mpandas/_libs/index.pyx\u001b[0m in \u001b[0;36mpandas._libs.index.IndexEngine.get_loc\u001b[0;34m()\u001b[0m\n",
      "\u001b[0;32mpandas/_libs/index.pyx\u001b[0m in \u001b[0;36mpandas._libs.index.IndexEngine.get_loc\u001b[0;34m()\u001b[0m\n",
      "\u001b[0;32mpandas/_libs/hashtable_class_helper.pxi\u001b[0m in \u001b[0;36mpandas._libs.hashtable.PyObjectHashTable.get_item\u001b[0;34m()\u001b[0m\n",
      "\u001b[0;32mpandas/_libs/hashtable_class_helper.pxi\u001b[0m in \u001b[0;36mpandas._libs.hashtable.PyObjectHashTable.get_item\u001b[0;34m()\u001b[0m\n",
      "\u001b[0;31mKeyError\u001b[0m: 'employment'",
      "\nDuring handling of the above exception, another exception occurred:\n",
      "\u001b[0;31mKeyError\u001b[0m                                  Traceback (most recent call last)",
      "\u001b[0;32m<ipython-input-40-73ba4839b5de>\u001b[0m in \u001b[0;36m<module>\u001b[0;34m\u001b[0m\n\u001b[0;32m----> 1\u001b[0;31m \u001b[0mds\u001b[0m\u001b[0;34m[\u001b[0m\u001b[0;34m'employment'\u001b[0m\u001b[0;34m]\u001b[0m\u001b[0;34m\u001b[0m\u001b[0;34m\u001b[0m\u001b[0m\n\u001b[0m",
      "\u001b[0;32m/Library/Frameworks/Python.framework/Versions/3.7/lib/python3.7/site-packages/pandas/core/frame.py\u001b[0m in \u001b[0;36m__getitem__\u001b[0;34m(self, key)\u001b[0m\n\u001b[1;32m   2798\u001b[0m             \u001b[0;32mif\u001b[0m \u001b[0mself\u001b[0m\u001b[0;34m.\u001b[0m\u001b[0mcolumns\u001b[0m\u001b[0;34m.\u001b[0m\u001b[0mnlevels\u001b[0m \u001b[0;34m>\u001b[0m \u001b[0;36m1\u001b[0m\u001b[0;34m:\u001b[0m\u001b[0;34m\u001b[0m\u001b[0;34m\u001b[0m\u001b[0m\n\u001b[1;32m   2799\u001b[0m                 \u001b[0;32mreturn\u001b[0m \u001b[0mself\u001b[0m\u001b[0;34m.\u001b[0m\u001b[0m_getitem_multilevel\u001b[0m\u001b[0;34m(\u001b[0m\u001b[0mkey\u001b[0m\u001b[0;34m)\u001b[0m\u001b[0;34m\u001b[0m\u001b[0;34m\u001b[0m\u001b[0m\n\u001b[0;32m-> 2800\u001b[0;31m             \u001b[0mindexer\u001b[0m \u001b[0;34m=\u001b[0m \u001b[0mself\u001b[0m\u001b[0;34m.\u001b[0m\u001b[0mcolumns\u001b[0m\u001b[0;34m.\u001b[0m\u001b[0mget_loc\u001b[0m\u001b[0;34m(\u001b[0m\u001b[0mkey\u001b[0m\u001b[0;34m)\u001b[0m\u001b[0;34m\u001b[0m\u001b[0;34m\u001b[0m\u001b[0m\n\u001b[0m\u001b[1;32m   2801\u001b[0m             \u001b[0;32mif\u001b[0m \u001b[0mis_integer\u001b[0m\u001b[0;34m(\u001b[0m\u001b[0mindexer\u001b[0m\u001b[0;34m)\u001b[0m\u001b[0;34m:\u001b[0m\u001b[0;34m\u001b[0m\u001b[0;34m\u001b[0m\u001b[0m\n\u001b[1;32m   2802\u001b[0m                 \u001b[0mindexer\u001b[0m \u001b[0;34m=\u001b[0m \u001b[0;34m[\u001b[0m\u001b[0mindexer\u001b[0m\u001b[0;34m]\u001b[0m\u001b[0;34m\u001b[0m\u001b[0;34m\u001b[0m\u001b[0m\n",
      "\u001b[0;32m/Library/Frameworks/Python.framework/Versions/3.7/lib/python3.7/site-packages/pandas/core/indexes/base.py\u001b[0m in \u001b[0;36mget_loc\u001b[0;34m(self, key, method, tolerance)\u001b[0m\n\u001b[1;32m   2646\u001b[0m                 \u001b[0;32mreturn\u001b[0m \u001b[0mself\u001b[0m\u001b[0;34m.\u001b[0m\u001b[0m_engine\u001b[0m\u001b[0;34m.\u001b[0m\u001b[0mget_loc\u001b[0m\u001b[0;34m(\u001b[0m\u001b[0mkey\u001b[0m\u001b[0;34m)\u001b[0m\u001b[0;34m\u001b[0m\u001b[0;34m\u001b[0m\u001b[0m\n\u001b[1;32m   2647\u001b[0m             \u001b[0;32mexcept\u001b[0m \u001b[0mKeyError\u001b[0m\u001b[0;34m:\u001b[0m\u001b[0;34m\u001b[0m\u001b[0;34m\u001b[0m\u001b[0m\n\u001b[0;32m-> 2648\u001b[0;31m                 \u001b[0;32mreturn\u001b[0m \u001b[0mself\u001b[0m\u001b[0;34m.\u001b[0m\u001b[0m_engine\u001b[0m\u001b[0;34m.\u001b[0m\u001b[0mget_loc\u001b[0m\u001b[0;34m(\u001b[0m\u001b[0mself\u001b[0m\u001b[0;34m.\u001b[0m\u001b[0m_maybe_cast_indexer\u001b[0m\u001b[0;34m(\u001b[0m\u001b[0mkey\u001b[0m\u001b[0;34m)\u001b[0m\u001b[0;34m)\u001b[0m\u001b[0;34m\u001b[0m\u001b[0;34m\u001b[0m\u001b[0m\n\u001b[0m\u001b[1;32m   2649\u001b[0m         \u001b[0mindexer\u001b[0m \u001b[0;34m=\u001b[0m \u001b[0mself\u001b[0m\u001b[0;34m.\u001b[0m\u001b[0mget_indexer\u001b[0m\u001b[0;34m(\u001b[0m\u001b[0;34m[\u001b[0m\u001b[0mkey\u001b[0m\u001b[0;34m]\u001b[0m\u001b[0;34m,\u001b[0m \u001b[0mmethod\u001b[0m\u001b[0;34m=\u001b[0m\u001b[0mmethod\u001b[0m\u001b[0;34m,\u001b[0m \u001b[0mtolerance\u001b[0m\u001b[0;34m=\u001b[0m\u001b[0mtolerance\u001b[0m\u001b[0;34m)\u001b[0m\u001b[0;34m\u001b[0m\u001b[0;34m\u001b[0m\u001b[0m\n\u001b[1;32m   2650\u001b[0m         \u001b[0;32mif\u001b[0m \u001b[0mindexer\u001b[0m\u001b[0;34m.\u001b[0m\u001b[0mndim\u001b[0m \u001b[0;34m>\u001b[0m \u001b[0;36m1\u001b[0m \u001b[0;32mor\u001b[0m \u001b[0mindexer\u001b[0m\u001b[0;34m.\u001b[0m\u001b[0msize\u001b[0m \u001b[0;34m>\u001b[0m \u001b[0;36m1\u001b[0m\u001b[0;34m:\u001b[0m\u001b[0;34m\u001b[0m\u001b[0;34m\u001b[0m\u001b[0m\n",
      "\u001b[0;32mpandas/_libs/index.pyx\u001b[0m in \u001b[0;36mpandas._libs.index.IndexEngine.get_loc\u001b[0;34m()\u001b[0m\n",
      "\u001b[0;32mpandas/_libs/index.pyx\u001b[0m in \u001b[0;36mpandas._libs.index.IndexEngine.get_loc\u001b[0;34m()\u001b[0m\n",
      "\u001b[0;32mpandas/_libs/hashtable_class_helper.pxi\u001b[0m in \u001b[0;36mpandas._libs.hashtable.PyObjectHashTable.get_item\u001b[0;34m()\u001b[0m\n",
      "\u001b[0;32mpandas/_libs/hashtable_class_helper.pxi\u001b[0m in \u001b[0;36mpandas._libs.hashtable.PyObjectHashTable.get_item\u001b[0;34m()\u001b[0m\n",
      "\u001b[0;31mKeyError\u001b[0m: 'employment'"
     ]
    }
   ],
   "source": []
  },
  {
   "cell_type": "code",
   "execution_count": null,
   "metadata": {},
   "outputs": [],
   "source": []
  }
 ],
 "metadata": {
  "kernelspec": {
   "display_name": "Python 3",
   "language": "python",
   "name": "python3"
  },
  "language_info": {
   "codemirror_mode": {
    "name": "ipython",
    "version": 3
   },
   "file_extension": ".py",
   "mimetype": "text/x-python",
   "name": "python",
   "nbconvert_exporter": "python",
   "pygments_lexer": "ipython3",
   "version": "3.7.6-final"
  }
 },
 "nbformat": 4,
 "nbformat_minor": 2
}