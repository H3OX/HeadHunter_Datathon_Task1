{
 "cells": [
  {
   "cell_type": "code",
   "execution_count": 49,
   "metadata": {},
   "outputs": [],
   "source": [
    "import json\n",
    "from math import log\n",
    "import pandas as pd\n",
    "\n",
    "def preprocess(line, sep):\n",
    "    data = json.loads(line)\n",
    "    if data['salary'][sep] is not None:\n",
    "        res = f\"{log(float(data['salary'][sep]))} \"\n",
    "    else:\n",
    "        return 0\n",
    "    res += f\"|billing_type {data['billing_type']['id']}\"\n",
    "    res += f\"|accept_handicapped {data['accept_handicapped']}\"\n",
    "    if data['key_skills']:\n",
    "        res += '|key_skills '\n",
    "        for elem in data['key_skills']:\n",
    "            res += f\"{elem['name'].encode('utf8').decode().replace(' ', '_').replace(':', '')} \"\n",
    "        \n",
    "    res += f\"|employment {data['employment']['id']}\"\n",
    "    res += f\"|archived {data['archived']}\"\n",
    "    if 'id' in data['employer']:\n",
    "        res += f\"|employer {data['employer']['id']}\"\n",
    "    res += f\"|response_letter_required {data['response_letter_required']}\"\n",
    "    res += f\"|type {data['type']['id']}\"\n",
    "    if data['specializations']:\n",
    "        res += '|specializations '\n",
    "        for elem in data['specializations']:\n",
    "            res += f\"{elem['id']} \"\n",
    "    res += f\"|premium {data['premium']}\"\n",
    "    res += f\"|schedule {data['schedule']['id']}\"\n",
    "    res += f\"|billing_type {data['billing_type']['id']}\"\n",
    "    if data['department']:\n",
    "        res += f\"|department {data['department']['id']}\"\n",
    "    if data['address']:\n",
    "        if 'city' in data:\n",
    "            res += f\"|address {data['address']['city'].encode('utf8').replace(':', '')}\"\n",
    "    res += '|name ' + data['name'].encode('utf8').decode().replace(':', '')\n",
    "    res += f\"|area {data['area']['id']}\"\n",
    "    res += f\"|experience {data['experience']['id']}\"\n",
    "    res += '|description ' + data['description'].encode('utf8').decode().replace(':', '').replace('\\n', ' ')\n",
    "    \n",
    "    return res\n",
    "\n",
    "def preprocess_test(line):\n",
    "    data = json.loads(line)\n",
    "    res = '0 '\n",
    "    \n",
    "    res = res + f\"|billing_type {data['billing_type']['id']}\"\n",
    "    res = res + f\"|accept_handicapped {data['accept_handicapped']}\"\n",
    "    if data['key_skills']:\n",
    "        res = res + '|key_skills '\n",
    "        for elem in data['key_skills']:\n",
    "            res = res + f\"{elem['name'].encode('utf8').decode().replace(' ', '_').replace(':', '')} \"\n",
    "        \n",
    "    res = res + f\"|employment {data['employment']['id']}\"\n",
    "    res = res + f\"|archived {data['archived']}\"\n",
    "    if 'id' in data['employer']:\n",
    "        res = res + f\"|employer {data['employer']['id']}\"\n",
    "    res = res + f\"|response_letter_required {data['response_letter_required']}\"\n",
    "    res = res + f\"|type {data['type']['id']}\"\n",
    "    if data['specializations']:\n",
    "        res = res + '|specializations '\n",
    "        for elem in data['specializations']:\n",
    "            res = res + f\"{elem['id']} \"\n",
    "    res = res + f\"|premium {data['premium']}\"\n",
    "    res = res + f\"|schedule {data['schedule']['id']}\"\n",
    "    res = res + f\"|billing_type {data['billing_type']['id']}\"\n",
    "    if data['department']:\n",
    "        res = res + f\"|department {data['department']['id']}\"\n",
    "    if data['address']:\n",
    "        if 'city' in data:\n",
    "            res = res + f\"|address {data['address']['city'].encode('utf8').replace(':', '')}\"\n",
    "    res = res + '|name ' + data['name'].encode('utf8').decode().replace(':', '')\n",
    "    res = res + f\"|area {data['area']['id']}\"\n",
    "    res = res + f\"|experience {data['experience']['id']}\"\n",
    "    res = res + '|description ' + data['description'].encode('utf8').decode().replace(':', '').replace('\\n', ' ')\n",
    "    \n",
    "    return res"
   ]
  },
  {
   "cell_type": "code",
   "execution_count": 82,
   "metadata": {},
   "outputs": [],
   "source": [
    "def transform_to_vw(inpt, output):\n",
    "    with open(inpt, 'r') as inp, open(output, 'w') as out:\n",
    "        for line in inp:\n",
    "            tline = transform_json(line, 'from')\n",
    "            if isinstance(tline, int):\n",
    "                continue\n",
    "        out.write(tline + '\\n')\n",
    "        print('Writing complete')"
   ]
  },
  {
   "cell_type": "code",
   "execution_count": 83,
   "metadata": {},
   "outputs": [
    {
     "name": "stdout",
     "output_type": "stream",
     "text": [
      "Writing complete\n"
     ]
    }
   ],
   "source": [
    "transform_to_vw('train.txt', 'data_low.vw')"
   ]
  },
  {
   "cell_type": "code",
   "execution_count": 84,
   "metadata": {},
   "outputs": [
    {
     "name": "stdout",
     "output_type": "stream",
     "text": [
      "Writing complete\n"
     ]
    }
   ],
   "source": [
    "transform_to_vw('train.txt', 'data_high.vw')"
   ]
  },
  {
   "cell_type": "code",
   "execution_count": 85,
   "metadata": {},
   "outputs": [
    {
     "name": "stdout",
     "output_type": "stream",
     "text": [
      "10.126631103850338 |billing_type free|accept_handicapped False|employment full|archived True|employer 1515327|response_letter_required False|type open|specializations 20.387 |premium False|schedule fullDay|billing_type free|name Производитель работ|area 49|experience between3And6|description <p><strong>Условия</strong></p> <ul> <li>Сфера деятельности Строительство</li> <li>График работы Полный день, 5/2</li> </ul> <p> </p> <p><strong>Требуемый опыт работы </strong></p> <ul> <li>Более 3 лет, высшее образование по направлению гражданское и пром. строительство.</li> </ul> <p> </p> <p><strong>Обязанности</strong></p> <ul> <li>Организационно-распорядительные документы и нормативные материалы вышестоящих и других органов, касающиеся производственно-хозяйственной деятельности участка (объекта).</li> <li>Организацию и технологию строительного производства.</li> <li>Нормы и расценки</li> </ul>\n",
      "\n"
     ]
    }
   ],
   "source": [
    "with open('data_low.vw', 'r') as f:\n",
    "    for line in f.readlines(1):\n",
    "        print(line)"
   ]
  },
  {
   "cell_type": "code",
   "execution_count": 53,
   "metadata": {},
   "outputs": [
    {
     "name": "stdout",
     "output_type": "stream",
     "text": [
      "cat: stdout: Broken pipe\r\n"
     ]
    }
   ],
   "source": [
    "!cat data_high.vw | tail -100000 >> test_high.vw\n",
    "!cat data_high.vw | head -290000 >> train_high.vw"
   ]
  },
  {
   "cell_type": "code",
   "execution_count": 55,
   "metadata": {},
   "outputs": [
    {
     "name": "stdout",
     "output_type": "stream",
     "text": [
      "  390960 63057168 949264504 data_high.vw\r\n"
     ]
    }
   ],
   "source": [
    "!wc data_high.vw"
   ]
  },
  {
   "cell_type": "code",
   "execution_count": 56,
   "metadata": {},
   "outputs": [
    {
     "name": "stdout",
     "output_type": "stream",
     "text": [
      "cat: stdout: Broken pipe\r\n"
     ]
    }
   ],
   "source": [
    "!cat data_low.vw | tail -100000 >> test_low.vw\n",
    "!cat data_low.vw | head -540000 >> train_low.vw"
   ]
  },
  {
   "cell_type": "code",
   "execution_count": 57,
   "metadata": {},
   "outputs": [
    {
     "name": "stdout",
     "output_type": "stream",
     "text": [
      "final_regressor = model_low.vw\n",
      "Enabling FTRL based optimization\n",
      "Algorithm used: Proximal-FTRL\n",
      "ftrl_alpha = 0.005\n",
      "ftrl_beta = 0.1\n",
      "Num weight bits = 18\n",
      "learning rate = 0.5\n",
      "initial_t = 0\n",
      "power_t = 0.5\n",
      "creating cache_file = train_low.vw.cache\n",
      "Reading datafile = train_low.vw\n",
      "num sources = 1\n",
      "average  since         example        example  current  current  current\n",
      "loss     last          counter         weight    label  predict features\n",
      "106.951660 106.951660            1            1.0  10.3417   0.0000       75\n",
      "87.880878 68.810097            2            2.0   8.5172   0.2220      153\n",
      "93.990223 100.099567            4            4.0  10.8198   0.5810      207\n",
      "95.530644 97.071066            8            8.0   9.7981   1.0559      116\n",
      "92.893018 90.255391           16           16.0  15.7441   2.0837      218\n",
      "81.520527 70.148037           32           32.0  11.2252   2.0292      111\n",
      "62.562173 43.603819           64           64.0   9.7410   1.2855       72\n",
      "48.582030 34.601887          128          128.0   6.9078   3.5295      127\n",
      "34.969368 21.356707          256          256.0  10.5966   8.5866      165\n",
      "26.602257 18.235146          512          512.0   8.8537   3.0915       58\n",
      "19.497580 12.392903         1024         1024.0   9.2103   9.1850      136\n",
      "15.888859 12.280139         2048         2048.0   9.9988   3.3881       39\n",
      "13.119979 10.351099         4096         4096.0   9.3927   9.0212      176\n",
      "9.934799 6.749618         8192         8192.0  10.8198  10.6501      181\n",
      "6.985215 4.035631        16384        16384.0  10.9277   8.9472      197\n",
      "5.036214 3.087213        32768        32768.0  10.2036  10.4781      101\n",
      "3.705788 2.375361        65536        65536.0  15.2018   9.1716       41\n",
      "2.758733 1.811679       131072       131072.0   9.9035  10.4783      122\n",
      "2.125765 1.492797       262144       262144.0   9.9988  10.4289      109\n",
      "1.698420 1.271075       524288       524288.0  10.1266  11.1014       91\n",
      "\n",
      "finished run\n",
      "number of examples = 540000\n",
      "weighted example sum = 540000.000000\n",
      "weighted label sum = 5634682.894862\n",
      "average loss = 1.675124\n",
      "best constant = 10.434598\n",
      "total feature number = 81330907\n"
     ]
    }
   ],
   "source": [
    "!vw -d train_low.vw -c -f model_low.vw --ftrl"
   ]
  },
  {
   "cell_type": "code",
   "execution_count": 58,
   "metadata": {},
   "outputs": [
    {
     "name": "stdout",
     "output_type": "stream",
     "text": [
      "10.341742483467284 |billing_type free|accept_handicapped False|employment full|archived False|employer 1942790|response_letter_required False|type open|specializations 3.318 3.98 3.230 3.90 |premium False|schedule fullDay|billing_type free|name Менеджер он-лайн офиса|area 1884|experience between1And3|description <p><strong>Обязанности</strong> консультирование клиентов, работа с электронной почтой, обучение новых сотрудников, ведение отчета по проделанной работе.</p> <p> </p> <p><strong>Требования</strong> уверенный пользователь ПК, скоростной интернет, целеустремленность, желание зарабатывать, терпеливость при работе с клиентами, ответственность, доброжелательность.</p> <p> </p> <p><strong>Условия</strong> трудоустройство по Т.З.Р.Ф., своевременная зарплата, бонусы, премии, бесплатное обучение и сопровождение до результата, карьерный рост.</p> <p>Обращаться по эл. почте</p>\n",
      "\n"
     ]
    }
   ],
   "source": [
    "with open('train_low.vw', 'r') as f:\n",
    "    for line in f.readlines(1):\n",
    "        print(line)"
   ]
  },
  {
   "cell_type": "code",
   "execution_count": 59,
   "metadata": {},
   "outputs": [
    {
     "name": "stdout",
     "output_type": "stream",
     "text": [
      "final_regressor = model_high.vw\n",
      "Enabling FTRL based optimization\n",
      "Algorithm used: Proximal-FTRL\n",
      "ftrl_alpha = 0.005\n",
      "ftrl_beta = 0.1\n",
      "Num weight bits = 18\n",
      "learning rate = 0.5\n",
      "initial_t = 0\n",
      "power_t = 0.5\n",
      "creating cache_file = train_high.vw.cache\n",
      "Reading datafile = train_high.vw\n",
      "num sources = 1\n",
      "average  since         example        example  current  current  current\n",
      "loss     last          counter         weight    label  predict features\n",
      "109.476509 109.476509            1            1.0  10.4631   0.0000       48\n",
      "114.660633 119.844757            2            2.0  11.0021   0.0547       71\n",
      "111.746721 108.832809            4            4.0  10.0432   0.5217      128\n",
      "106.070099 100.393476            8            8.0  10.5966   0.2365       47\n",
      "97.291622 88.513145           16           16.0  10.0858   0.9092       97\n",
      "82.861560 68.431498           32           32.0  10.4043   2.9572      181\n",
      "70.255918 57.650276           64           64.0  10.7144   3.7279      187\n",
      "53.459390 36.662863          128          128.0  10.9331  10.8924      331\n",
      "44.865169 36.270947          256          256.0  10.3090   9.0353      189\n",
      "32.070255 19.275341          512          512.0  10.4913  12.3265      235\n",
      "24.270088 16.469921         1024         1024.0   9.9897  11.1697      180\n",
      "19.091617 13.913146         2048         2048.0  10.5966   8.7240      115\n",
      "14.123098 9.154579         4096         4096.0  11.5129  11.2993      158\n",
      "9.728519 5.333940         8192         8192.0   9.9523   8.0815       56\n",
      "7.101584 4.474650        16384        16384.0  10.1266   8.6268       59\n",
      "5.141983 3.182381        32768        32768.0  10.7144  10.6395      111\n",
      "3.777053 2.412124        65536        65536.0  11.9184  11.9293      166\n",
      "2.804416 1.831778       131072       131072.0  11.9184  10.7000      233\n",
      "2.162437 1.520459       262144       262144.0  10.4631  10.4092       81\n",
      "\n",
      "finished run\n",
      "number of examples = 290000\n",
      "weighted example sum = 290000.000000\n",
      "weighted label sum = 3146307.009081\n",
      "average loss = 2.059113\n",
      "best constant = 10.849335\n",
      "total feature number = 43702237\n"
     ]
    }
   ],
   "source": [
    "!vw -d train_high.vw -c -f model_high.vw --ftrl"
   ]
  },
  {
   "cell_type": "code",
   "execution_count": 60,
   "metadata": {},
   "outputs": [],
   "source": [
    "import numpy as np\n",
    "def create_test(filename):\n",
    "    t = []\n",
    "    with open(filename, 'r') as f:\n",
    "        for line in f:\n",
    "            t.append(np.exp(float(line.split()[0])))\n",
    "    return t"
   ]
  },
  {
   "cell_type": "code",
   "execution_count": 61,
   "metadata": {},
   "outputs": [],
   "source": [
    "test_from = create_test('test_low.vw')"
   ]
  },
  {
   "cell_type": "code",
   "execution_count": 62,
   "metadata": {},
   "outputs": [],
   "source": [
    "test_to = create_test('test_high.vw')"
   ]
  },
  {
   "cell_type": "code",
   "execution_count": 63,
   "metadata": {},
   "outputs": [
    {
     "name": "stdout",
     "output_type": "stream",
     "text": [
      "only testing\n",
      "predictions = hh_model.csv\n",
      "Enabling FTRL based optimization\n",
      "Algorithm used: Proximal-FTRL\n",
      "ftrl_alpha = 0.005\n",
      "ftrl_beta = 0.1\n",
      "Num weight bits = 18\n",
      "learning rate = 0.5\n",
      "initial_t = 0\n",
      "power_t = 0.5\n",
      "using no cache\n",
      "Reading datafile = test_high.vw\n",
      "num sources = 1\n",
      "average  since         example        example  current  current  current\n",
      "loss     last          counter         weight    label  predict features\n",
      "0.641880 0.641880            1            1.0  10.1943  10.9955      138\n",
      "0.569881 0.497882            2            2.0  12.4292  11.7236      205\n",
      "0.304516 0.039150            4            4.0  10.5966  10.3791      105\n",
      "3.894532 7.484548            8            8.0  15.7614  10.3220       58\n",
      "2.181072 0.467613           16           16.0  11.0666  10.5763      318\n",
      "1.243639 0.306206           32           32.0  11.0666  10.4277      314\n",
      "0.969430 0.695220           64           64.0  11.5129  11.8950      280\n",
      "1.379351 1.789273          128          128.0  10.8198  10.9407      100\n",
      "1.511073 1.642796          256          256.0  12.8992  10.3192      129\n",
      "1.362699 1.214325          512          512.0  11.5129  11.2039      133\n",
      "0.821107 0.279515         1024         1024.0  11.2898  11.2454      314\n",
      "0.644275 0.467442         2048         2048.0  10.2036  10.5437       71\n",
      "0.930811 1.217347         4096         4096.0  11.2898  11.3253      314\n",
      "0.884880 0.838950         8192         8192.0  11.2898  11.3556      314\n",
      "0.948351 1.011821        16384        16384.0  11.2898  11.3739      321\n",
      "0.869904 0.791457        32768        32768.0   9.3927   8.7684       58\n",
      "0.954816 1.039727        65536        65536.0   5.7038  10.3527      153\n",
      "\n",
      "finished run\n",
      "number of examples = 100000\n",
      "weighted example sum = 100000.000000\n",
      "weighted label sum = 1087685.684431\n",
      "average loss = 1.117079\n",
      "best constant = 10.876856\n",
      "total feature number = 16345342\n",
      "only testing\n",
      "predictions = hl_model.csv\n",
      "Enabling FTRL based optimization\n",
      "Algorithm used: Proximal-FTRL\n",
      "ftrl_alpha = 0.005\n",
      "ftrl_beta = 0.1\n",
      "Num weight bits = 18\n",
      "learning rate = 0.5\n",
      "initial_t = 0\n",
      "power_t = 0.5\n",
      "using no cache\n",
      "Reading datafile = test_high.vw\n",
      "num sources = 1\n",
      "average  since         example        example  current  current  current\n",
      "loss     last          counter         weight    label  predict features\n",
      "0.646936 0.646936            1            1.0  10.1943  10.9986      138\n",
      "0.736427 0.825918            2            2.0  12.4292  11.5204      205\n",
      "0.507528 0.278630            4            4.0  10.5966  10.4333      105\n",
      "3.512090 6.516653            8            8.0  15.7614  10.7609       58\n",
      "2.020686 0.529281           16           16.0  11.0666  10.2705      318\n",
      "1.234762 0.448837           32           32.0  11.0666  10.2073      314\n",
      "0.952344 0.669926           64           64.0  11.5129  11.0016      280\n",
      "1.323589 1.694833          128          128.0  10.8198  10.2994      100\n",
      "1.339734 1.355880          256          256.0  12.8992  10.4981      129\n",
      "1.190455 1.041175          512          512.0  11.5129  11.1043      133\n",
      "0.807884 0.425314         1024         1024.0  11.2898  10.7724      314\n",
      "0.714827 0.621769         2048         2048.0  10.2036  10.3540       71\n",
      "0.921174 1.127521         4096         4096.0  11.2898  10.8143      314\n",
      "0.890788 0.860402         8192         8192.0  11.2898  10.8775      314\n",
      "0.964988 1.039188        16384        16384.0  11.2898  10.9546      321\n",
      "0.923076 0.881163        32768        32768.0   9.3927   9.0321       58\n",
      "1.083220 1.243365        65536        65536.0   5.7038   9.7992      153\n",
      "\n",
      "finished run\n",
      "number of examples = 100000\n",
      "weighted example sum = 100000.000000\n",
      "weighted label sum = 1087685.684431\n",
      "average loss = 1.181101\n",
      "best constant = 10.876856\n",
      "total feature number = 16345342\n",
      "only testing\n",
      "predictions = ll_model.csv\n",
      "Enabling FTRL based optimization\n",
      "Algorithm used: Proximal-FTRL\n",
      "ftrl_alpha = 0.005\n",
      "ftrl_beta = 0.1\n",
      "Num weight bits = 18\n",
      "learning rate = 0.5\n",
      "initial_t = 0\n",
      "power_t = 0.5\n",
      "using no cache\n",
      "Reading datafile = test_low.vw\n",
      "num sources = 1\n",
      "average  since         example        example  current  current  current\n",
      "loss     last          counter         weight    label  predict features\n",
      "3.041451 3.041451            1            1.0   9.2103  10.9543      162\n",
      "1.556814 0.072178            2            2.0  10.1266  10.3953      139\n",
      "0.852335 0.147856            4            4.0  10.1659   9.8772      175\n",
      "0.602624 0.352913            8            8.0   9.3927  10.5150       49\n",
      "1.066656 1.530687           16           16.0  10.2036  10.2693       90\n",
      "1.205587 1.344519           32           32.0  14.9141  11.3721       69\n",
      "1.549142 1.892697           64           64.0  10.1266  10.8588       78\n",
      "1.329936 1.110729          128          128.0  10.1266  10.2227      230\n",
      "1.279964 1.229992          256          256.0  10.4631  10.8571      193\n",
      "1.122163 0.964362          512          512.0  11.9184  11.9868      276\n",
      "1.062538 1.002913         1024         1024.0   9.9035  10.3783       93\n",
      "1.332105 1.601672         2048         2048.0  10.8198  11.2252      118\n",
      "0.992648 0.653192         4096         4096.0   9.9035  10.6580       95\n",
      "0.957000 0.921351         8192         8192.0  11.7753  11.3768      259\n",
      "1.265233 1.573466        16384        16384.0  11.5129  10.9929      105\n",
      "1.208386 1.151539        32768        32768.0  10.9151  10.8257      352\n",
      "1.186876 1.165366        65536        65536.0  10.5966  10.9431       87\n",
      "\n",
      "finished run\n",
      "number of examples = 100000\n",
      "weighted example sum = 100000.000000\n",
      "weighted label sum = 1046550.961764\n",
      "average loss = 1.189583\n",
      "best constant = 10.465509\n",
      "total feature number = 14711990\n",
      "only testing\n",
      "predictions = lh_model.csv\n",
      "Enabling FTRL based optimization\n",
      "Algorithm used: Proximal-FTRL\n",
      "ftrl_alpha = 0.005\n",
      "ftrl_beta = 0.1\n",
      "Num weight bits = 18\n",
      "learning rate = 0.5\n",
      "initial_t = 0\n",
      "power_t = 0.5\n",
      "using no cache\n",
      "Reading datafile = test_low.vw\n",
      "num sources = 1\n",
      "average  since         example        example  current  current  current\n",
      "loss     last          counter         weight    label  predict features\n",
      "7.105239 7.105239            1            1.0   9.2103  11.8759      162\n",
      "4.386015 1.666790            2            2.0  10.1266  11.4177      139\n",
      "2.224346 0.062677            4            4.0  10.1659  10.2146      175\n",
      "1.373285 0.522225            8            8.0   9.3927  10.7966       49\n",
      "1.687186 2.001088           16           16.0  10.2036  10.4393       90\n",
      "1.868776 2.050366           32           32.0  14.9141  11.1111       69\n",
      "2.241191 2.613606           64           64.0  10.1266  10.8846       78\n",
      "1.856668 1.472146          128          128.0  10.1266  10.5456      230\n",
      "1.720585 1.584501          256          256.0  10.4631  10.6096      193\n",
      "1.616937 1.513290          512          512.0  11.9184  10.6005      276\n",
      "1.578241 1.539546         1024         1024.0   9.9035  10.3631       93\n",
      "1.823404 2.068566         2048         2048.0  10.8198  11.1896      118\n",
      "1.660552 1.497700         4096         4096.0   9.9035  10.7462       95\n",
      "1.683036 1.705521         8192         8192.0  11.7753  11.2089      259\n",
      "1.815310 1.947584        16384        16384.0  11.5129  11.0959      105\n",
      "1.685593 1.555877        32768        32768.0  10.9151  11.9596      352\n",
      "1.727560 1.769527        65536        65536.0  10.5966  11.1459       87\n",
      "\n",
      "finished run\n",
      "number of examples = 100000\n",
      "weighted example sum = 100000.000000\n",
      "weighted label sum = 1046550.961764\n",
      "average loss = 1.707885\n",
      "best constant = 10.465509\n",
      "total feature number = 14711990\n"
     ]
    }
   ],
   "source": [
    "# Перекрестная тренировка моделей\n",
    "\n",
    "!vw -t test_high.vw -i model_high.vw -p hh_model.csv\n",
    "!vw -t test_high.vw -i model_low.vw -p hl_model.csv\n",
    "!vw -t test_low.vw -i model_low.vw -p ll_model.csv\n",
    "!vw -t test_low.vw -i model_high.vw -p lh_model.csv"
   ]
  },
  {
   "cell_type": "code",
   "execution_count": 64,
   "metadata": {},
   "outputs": [],
   "source": [
    "lpred_h = np.exp(pd.read_csv('lh_model.csv', header=None).values[:, 0])\n",
    "lpred_l = np.exp(pd.read_csv('ll_model.csv', header=None).values[:, 0])\n",
    "lpreds = (lpred_h + lpred_l)/2\n",
    "\n",
    "hpred_h = np.exp(pd.read_csv('hh_model.csv', header=None).values[:,0])\n",
    "hpred_l = np.exp(pd.read_csv('hl_model.csv', header=None).values[:,0])\n",
    "hpreds = (hpred_h + hpred_l)/2"
   ]
  },
  {
   "cell_type": "code",
   "execution_count": 65,
   "metadata": {},
   "outputs": [
    {
     "data": {
      "text/plain": [
       "array([100480.48844612,  61809.77930508,  20024.2969826 , ...,\n",
       "        48958.77944551,  21110.80992078,  38702.25491747])"
      ]
     },
     "execution_count": 65,
     "metadata": {},
     "output_type": "execute_result"
    }
   ],
   "source": [
    "lpreds"
   ]
  },
  {
   "cell_type": "code",
   "execution_count": 66,
   "metadata": {},
   "outputs": [
    {
     "data": {
      "text/plain": [
       "array([ 59697.10104698, 112102.01348284,  52851.46552987, ...,\n",
       "        46919.99861182, 141120.99703678,  48958.77944551])"
      ]
     },
     "execution_count": 66,
     "metadata": {},
     "output_type": "execute_result"
    }
   ],
   "source": [
    "hpreds"
   ]
  },
  {
   "cell_type": "code",
   "execution_count": 78,
   "metadata": {},
   "outputs": [
    {
     "data": {
      "text/plain": [
       "294.1334693830131"
      ]
     },
     "execution_count": 78,
     "metadata": {},
     "output_type": "execute_result"
    }
   ],
   "source": [
    "def get_error():\n",
    "    low_error = np.sqrt(np.mean((lpreds / test_from - 1) ** 2))\n",
    "    high_error = np.sqrt(np.mean((test_to / hpreds - 1) ** 2))\n",
    "    return 0.5 * low_error + 0.5 * high_error\n",
    "get_error()"
   ]
  },
  {
   "cell_type": "code",
   "execution_count": 86,
   "metadata": {},
   "outputs": [
    {
     "ename": "TypeError",
     "evalue": "unsupported operand type(s) for +: 'int' and 'str'",
     "output_type": "error",
     "traceback": [
      "\u001b[0;31m---------------------------------------------------------------------------\u001b[0m",
      "\u001b[0;31mTypeError\u001b[0m                                 Traceback (most recent call last)",
      "\u001b[0;32m<ipython-input-86-dc064e1a2f97>\u001b[0m in \u001b[0;36m<module>\u001b[0;34m\u001b[0m\n\u001b[0;32m----> 1\u001b[0;31m \u001b[0mtransform_to_vw\u001b[0m\u001b[0;34m(\u001b[0m\u001b[0;34m'test.txt'\u001b[0m\u001b[0;34m,\u001b[0m \u001b[0;34m'test.vw'\u001b[0m\u001b[0;34m)\u001b[0m\u001b[0;34m\u001b[0m\u001b[0;34m\u001b[0m\u001b[0m\n\u001b[0m",
      "\u001b[0;32m<ipython-input-82-e135a11b6b22>\u001b[0m in \u001b[0;36mtransform_to_vw\u001b[0;34m(inpt, output)\u001b[0m\n\u001b[1;32m      5\u001b[0m             \u001b[0;32mif\u001b[0m \u001b[0misinstance\u001b[0m\u001b[0;34m(\u001b[0m\u001b[0mtline\u001b[0m\u001b[0;34m,\u001b[0m \u001b[0mint\u001b[0m\u001b[0;34m)\u001b[0m\u001b[0;34m:\u001b[0m\u001b[0;34m\u001b[0m\u001b[0;34m\u001b[0m\u001b[0m\n\u001b[1;32m      6\u001b[0m                 \u001b[0;32mcontinue\u001b[0m\u001b[0;34m\u001b[0m\u001b[0;34m\u001b[0m\u001b[0m\n\u001b[0;32m----> 7\u001b[0;31m         \u001b[0mout\u001b[0m\u001b[0;34m.\u001b[0m\u001b[0mwrite\u001b[0m\u001b[0;34m(\u001b[0m\u001b[0mtline\u001b[0m \u001b[0;34m+\u001b[0m \u001b[0;34m'\\n'\u001b[0m\u001b[0;34m)\u001b[0m\u001b[0;34m\u001b[0m\u001b[0;34m\u001b[0m\u001b[0m\n\u001b[0m\u001b[1;32m      8\u001b[0m         \u001b[0mprint\u001b[0m\u001b[0;34m(\u001b[0m\u001b[0;34m'Writing complete'\u001b[0m\u001b[0;34m)\u001b[0m\u001b[0;34m\u001b[0m\u001b[0;34m\u001b[0m\u001b[0m\n",
      "\u001b[0;31mTypeError\u001b[0m: unsupported operand type(s) for +: 'int' and 'str'"
     ]
    }
   ],
   "source": [
    "with open('test.txt', 'r') as inp, open('test.vw', 'w') as out:\n",
    "    for line in inp:\n",
    "        tline = preprocess_test(line, )\n",
    "        data = json.loads(line)\n",
    "        if isinstance(tline, int):\n",
    "            continue\n",
    "        out.write(tline + '\\n')"
   ]
  },
  {
   "cell_type": "code",
   "execution_count": 70,
   "metadata": {},
   "outputs": [
    {
     "name": "stdout",
     "output_type": "stream",
     "text": [
      "only testing\n",
      "predictions = test_high.csv\n",
      "Enabling FTRL based optimization\n",
      "Algorithm used: Proximal-FTRL\n",
      "ftrl_alpha = 0.005\n",
      "ftrl_beta = 0.1\n",
      "Num weight bits = 18\n",
      "learning rate = 0.5\n",
      "initial_t = 0\n",
      "power_t = 0.5\n",
      "using no cache\n",
      "Reading datafile = test.vw\n",
      "num sources = 1\n",
      "average  since         example        example  current  current  current\n",
      "loss     last          counter         weight    label  predict features\n",
      "109.364822 109.364822            1            1.0   0.0000  10.4578      200\n",
      "102.390083 95.415344            2            2.0   0.0000   9.7681       75\n",
      "108.674677 114.959270            4            4.0   0.0000  10.2721      114\n",
      "106.227323 103.779968            8            8.0   0.0000   9.9055      125\n",
      "100.936146 95.644969           16           16.0   0.0000   7.8486       69\n",
      "97.379865 93.823585           32           32.0   0.0000  11.6924      179\n",
      "102.966103 108.552341           64           64.0   0.0000   9.4443      335\n",
      "106.988884 111.011664          128          128.0   0.0000  10.6532      236\n",
      "108.067647 109.146410          256          256.0   0.0000  10.3258      323\n",
      "106.959394 105.851140          512          512.0   0.0000   9.1857      101\n",
      "106.368411 105.777429         1024         1024.0   0.0000  10.9817      137\n",
      "115.431999 124.495588         2048         2048.0   0.0000  11.4705       75\n",
      "117.881208 120.330416         4096         4096.0   0.0000  11.0886      132\n",
      "115.222821 112.564434         8192         8192.0   0.0000  11.5196      287\n",
      "114.462986 113.703152        16384        16384.0   0.0000  11.2837      135\n",
      "113.865558 113.268129        32768        32768.0   0.0000  10.1469       95\n",
      "113.830606 113.795654        65536        65536.0   0.0000  10.4208      163\n",
      "114.120789 114.410971       131072       131072.0   0.0000  11.9262      125\n",
      "\n",
      "finished run\n",
      "number of examples = 173995\n",
      "weighted example sum = 173995.000000\n",
      "weighted label sum = 0.000000\n",
      "average loss = 114.489339\n",
      "total feature number = 26036210\n",
      "only testing\n",
      "predictions = test_low.csv\n",
      "Enabling FTRL based optimization\n",
      "Algorithm used: Proximal-FTRL\n",
      "ftrl_alpha = 0.005\n",
      "ftrl_beta = 0.1\n",
      "Num weight bits = 18\n",
      "learning rate = 0.5\n",
      "initial_t = 0\n",
      "power_t = 0.5\n",
      "using no cache\n",
      "Reading datafile = test.vw\n",
      "num sources = 1\n",
      "average  since         example        example  current  current  current\n",
      "loss     last          counter         weight    label  predict features\n",
      "104.799301 104.799301            1            1.0   0.0000  10.2372      200\n",
      "101.221336 97.643372            2            2.0   0.0000   9.8815       75\n",
      "107.296144 113.370953            4            4.0   0.0000  10.1042      114\n",
      "104.853433 102.410721            8            8.0   0.0000   9.9076      125\n",
      "99.699140 94.544847           16           16.0   0.0000   8.0546       69\n",
      "95.974872 92.250604           32           32.0   0.0000  11.1422      179\n",
      "100.179349 104.383827           64           64.0   0.0000   9.3346      335\n",
      "104.109878 108.040408          128          128.0   0.0000  10.1131      236\n",
      "104.463585 104.817292          256          256.0   0.0000  10.1175      323\n",
      "105.770713 107.077841          512          512.0   0.0000   9.2236      101\n",
      "104.631527 103.492341         1024         1024.0   0.0000  10.3412      137\n",
      "109.698093 114.764659         2048         2048.0   0.0000  10.5110       75\n",
      "107.238709 104.779326         4096         4096.0   0.0000  10.2997      132\n",
      "106.404983 105.571257         8192         8192.0   0.0000   7.3614      287\n",
      "106.064941 105.724898        16384        16384.0   0.0000  10.5090      135\n",
      "106.951174 107.837408        32768        32768.0   0.0000   9.8792       95\n",
      "107.748423 108.545672        65536        65536.0   0.0000  10.9845      163\n",
      "108.319420 108.890417       131072       131072.0   0.0000  10.8909      125\n",
      "\n",
      "finished run\n",
      "number of examples = 173995\n",
      "weighted example sum = 173995.000000\n",
      "weighted label sum = 0.000000\n",
      "average loss = 108.492947\n",
      "total feature number = 26036210\n"
     ]
    }
   ],
   "source": [
    "# Прогон тестовой выборки по тренированным моделям\n",
    "\n",
    "!vw -t test.vw -i model_high.vw -p test_high.csv\n",
    "!vw -t test.vw -i model_low.vw -p test_low.csv"
   ]
  },
  {
   "cell_type": "code",
   "execution_count": 74,
   "metadata": {},
   "outputs": [],
   "source": [
    "def get_test_preds():\n",
    "    hpreds_tst = np.exp(pd.read_csv('test_high.csv', header=None).values[:,0])\n",
    "    lpreds_tst = np.exp(pd.read_csv('test_low.csv', header=None).values[:,0])\n",
    "\n",
    "    return 0.5 * lpreds_tst + 0.5 * hpreds_tst"
   ]
  },
  {
   "cell_type": "code",
   "execution_count": 76,
   "metadata": {},
   "outputs": [
    {
     "data": {
      "text/plain": [
       "array([31367.57059494, 18515.77304107, 70197.15323984, ...,\n",
       "       55168.07560602, 14399.92400044, 73244.69414034])"
      ]
     },
     "execution_count": 76,
     "metadata": {},
     "output_type": "execute_result"
    }
   ],
   "source": [
    "get_test_preds()"
   ]
  },
  {
   "cell_type": "code",
   "execution_count": null,
   "metadata": {},
   "outputs": [],
   "source": []
  }
 ],
 "metadata": {
  "kernelspec": {
   "display_name": "Python 3.7.6 64-bit",
   "language": "python",
   "name": "python37664bita2646d03a700482dbff71b2eb445a4db"
  },
  "language_info": {
   "codemirror_mode": {
    "name": "ipython",
    "version": 3
   },
   "file_extension": ".py",
   "mimetype": "text/x-python",
   "name": "python",
   "nbconvert_exporter": "python",
   "pygments_lexer": "ipython3",
   "version": "3.7.6"
  }
 },
 "nbformat": 4,
 "nbformat_minor": 4
}
